{
 "cells": [
  {
   "cell_type": "code",
   "execution_count": 4,
   "id": "d203de6a-22c5-4f55-94c7-db21cb5ffa3b",
   "metadata": {},
   "outputs": [
    {
     "data": {
      "application/vnd.jupyter.es6-rich-output": "http://127.0.0.1:9897/manager.dev.js",
      "application/vnd.jupyter.widget-view+json": {
       "model_id": "5d318f999dad4e2c99424cc7b3c9ccbd",
       "version_major": 2,
       "version_minor": 0
      },
      "text/plain": [
       "IntSlider(value=0)"
      ]
     },
     "metadata": {},
     "output_type": "display_data"
    }
   ],
   "source": [
    "import IPython\n",
    "\n",
    "_WIDGET_MIME_TYPE = 'application/vnd.jupyter.widget-view+json'\n",
    "\n",
    "def _widget_display_hook(msg):\n",
    "    content = msg.get('content', {})\n",
    "    if not content:\n",
    "        return msg\n",
    "    data = content.get('data', {})\n",
    "    widget_data = data.get(_WIDGET_MIME_TYPE)\n",
    "    if not widget_data:\n",
    "        return msg\n",
    "    \n",
    "    content['data'] = data\n",
    "    data['application/vnd.jupyter.es6-rich-output'] = 'http://127.0.0.1:9897/manager.dev.js'\n",
    "    \n",
    "    return msg\n",
    "    \n",
    "    \n",
    "IPython.get_ipython().display_pub.register_hook(_widget_display_hook)\n",
    "\n",
    "import ipywidgets as widgets\n",
    "s = widgets.IntSlider()\n",
    "\n",
    "display(s)"
   ]
  }
 ],
 "metadata": {
  "kernelspec": {
   "display_name": "Python 3",
   "language": "python",
   "name": "python3"
  },
  "language_info": {
   "codemirror_mode": {
    "name": "ipython",
    "version": 3
   },
   "file_extension": ".py",
   "mimetype": "text/x-python",
   "name": "python",
   "nbconvert_exporter": "python",
   "pygments_lexer": "ipython3",
   "version": "3.10.7"
  }
 },
 "nbformat": 4,
 "nbformat_minor": 5
}
