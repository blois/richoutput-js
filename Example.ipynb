{
 "cells": [
  {
   "cell_type": "code",
   "execution_count": 1,
   "id": "bebdc6b9-0d2c-4f73-825d-60f5e39bada0",
   "metadata": {},
   "outputs": [],
   "source": [
    "import base64\n",
    "\n",
    "def encode(s):\n",
    "    return 'data:text/javascript;base64,'+base64.standard_b64encode(s.encode('utf-8')).decode('utf-8')\n",
    "\n",
    "def render(src, otherdata = None):\n",
    "    if otherdata is None:\n",
    "        data = {}\n",
    "    else:\n",
    "        data = otherdata.copy()\n",
    "    data['application/vnd.jupyter.es6-rich-output'] = encode(src)\n",
    "    display(data, raw=True)\n"
   ]
  },
  {
   "cell_type": "code",
   "execution_count": 3,
   "id": "0dcdcc98-720d-42eb-9fee-f00f0a7305be",
   "metadata": {},
   "outputs": [
    {
     "data": {
      "application/mytable+json": [
       [
        1,
        2,
        3
       ],
       [
        4,
        5,
        6
       ]
      ],
      "application/vnd.jupyter.es6-rich-output": "data:text/javascript;base64,CiAgICBleHBvcnQgZnVuY3Rpb24gcmVuZGVyKG91dHB1dCwgZWxlbWVudCwgY29udGV4dCkgewogICAgbGV0IHRhYmxlZGF0YSA9IG91dHB1dC5kYXRhWydhcHBsaWNhdGlvbi9teXRhYmxlK2pzb24nXTsKICAgIGNvbnNvbGUubG9nKG91dHB1dCk7CiAgICBjb25zdCB0YWJsZSA9IGRvY3VtZW50LmNyZWF0ZUVsZW1lbnQoJ3RhYmxlJyk7CiAgICB0YWJsZS5ydWxlcz0iYWxsIgogICAgZm9yKGxldCBpPTA7IGk8dGFibGVkYXRhLmxlbmd0aDtpKyspIHsKICAgICAgbGV0IHJvdyA9IGRvY3VtZW50LmNyZWF0ZUVsZW1lbnQoJ3RyJykKICAgICAgZm9yKGxldCBqPTA7IGo8dGFibGVkYXRhW2ldLmxlbmd0aDsgaisrKSB7CiAgICAgICAgbGV0IGNlbGwgPSBkb2N1bWVudC5jcmVhdGVFbGVtZW50KCd0ZCcpCiAgICAgICAgY2VsbC50ZXh0Q29udGVudCA9IHRhYmxlZGF0YVtpXVtqXQogICAgICAgIHJvdy5hcHBlbmRDaGlsZChjZWxsKQogICAgICB9CiAgICAgIHRhYmxlLmFwcGVuZENoaWxkKHJvdykKICAgIH0KICAgIGVsZW1lbnQuYXBwZW5kQ2hpbGQodGFibGUpOwogICAgdGFibGUuc3R5bGUuYm9yZGVyID0gJzFweCBzb2xpZCByZWQnOwogICAgaWYgKCFvdXRwdXQuZGF0YVsndGV4dC9odG1sJ10pIHsKICAgICAgICBvdXRwdXQuZGF0YVsndGV4dC9odG1sJ10gPSBlbGVtZW50LmlubmVySFRNTAogICAgfQogICAgfQogICAg",
      "text/html": [
       "<table rules=\"all\" style=\"border: 1px solid red;\"><tr><td>1</td><td>2</td><td>3</td></tr><tr><td>4</td><td>5</td><td>6</td></tr></table>"
      ]
     },
     "metadata": {},
     "output_type": "display_data"
    }
   ],
   "source": [
    "render('''\n",
    "    export function render(output, element, context) {\n",
    "    let tabledata = output.data['application/mytable+json'];\n",
    "    console.log(output);\n",
    "    const table = document.createElement('table');\n",
    "    table.rules=\"all\"\n",
    "    for(let i=0; i<tabledata.length;i++) {\n",
    "      let row = document.createElement('tr')\n",
    "      for(let j=0; j<tabledata[i].length; j++) {\n",
    "        let cell = document.createElement('td')\n",
    "        cell.textContent = tabledata[i][j]\n",
    "        row.appendChild(cell)\n",
    "      }\n",
    "      table.appendChild(row)\n",
    "    }\n",
    "    element.appendChild(table);\n",
    "    table.style.border = '1px solid red';\n",
    "    if (!output.data['text/html']) {\n",
    "        output.data['text/html'] = element.innerHTML\n",
    "    }\n",
    "    }\n",
    "    ''',\n",
    "    {'application/mytable+json': [[1,2,3],[4,5,6]]}\n",
    ")"
   ]
  },
  {
   "cell_type": "code",
   "execution_count": null,
   "id": "d0e2be21-8c10-4ef6-a439-eabfe0b64b72",
   "metadata": {},
   "outputs": [],
   "source": []
  }
 ],
 "metadata": {
  "kernelspec": {
   "display_name": "Python 3 (ipykernel)",
   "language": "python",
   "name": "python3"
  },
  "language_info": {
   "codemirror_mode": {
    "name": "ipython",
    "version": 3
   },
   "file_extension": ".py",
   "mimetype": "text/x-python",
   "name": "python",
   "nbconvert_exporter": "python",
   "pygments_lexer": "ipython3",
   "version": "3.10.6"
  }
 },
 "nbformat": 4,
 "nbformat_minor": 5
}
